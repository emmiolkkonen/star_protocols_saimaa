{
 "cells": [
  {
   "cell_type": "markdown",
   "id": "b448de89-46dd-4195-b51d-9719c734e83b",
   "metadata": {},
   "source": [
    "# Scripts for masking the genome and filtering variation data"
   ]
  },
  {
   "cell_type": "markdown",
   "id": "2cbc5272-4ea0-4812-b34f-7459843f4a05",
   "metadata": {},
   "source": [
    "## Before you begin"
   ]
  },
  {
   "cell_type": "markdown",
   "id": "a55769fa-ee40-431b-8d15-e099ec0f44ca",
   "metadata": {},
   "source": [
    "#### Copy the tools to 'bin/' and in each cell below, define paths to the tools. Adjust '$ncpu', the number of computing threads used, within the script if necessary."
   ]
  },
  {
   "cell_type": "markdown",
   "id": "cf694325-7335-45af-9e5c-cc4a9d18e7bf",
   "metadata": {},
   "source": [
    "## 1. Masking the genome"
   ]
  },
  {
   "cell_type": "markdown",
   "id": "62511427-000c-4ff8-b8ee-229a352b4203",
   "metadata": {},
   "source": [
    "### 1.1. RepeatMasker"
   ]
  },
  {
   "cell_type": "code",
   "execution_count": null,
   "id": "8d2fe3ba-f7d0-428b-aba5-617b9f701c33",
   "metadata": {},
   "outputs": [],
   "source": [
    "cd ../.. #star_protocols_saimaa\n",
    "work=$(pwd)\n",
    "apps=$work/bin\n",
    "\n",
    "refd=$work/data/reference\n",
    "refs=$refd/norppa_12122017\n",
    "\n",
    "rmask=$apps/RepeatMasker\n",
    "ncpu=4\n",
    "\n",
    "$rmask -xsmall -gff -dir $refd/RM -pa $ncpu -species \"Canis familiaris\" $refs.fa\n",
    "\n",
    "#Making a tab file for repetitive regions\n",
    "\n",
    "awk '!/#/{OFS=\"\\t\";print $1,$4,$5}' $refd/RM/norppa_12122017.fa.out.gff > $refd/RM/repeats.tab"
   ]
  },
  {
   "cell_type": "markdown",
   "id": "7f633d0a-19c4-4a6c-aa3b-0430e3c5d5d3",
   "metadata": {},
   "source": [
    "### 1.2. Positive masking: SNPable"
   ]
  },
  {
   "cell_type": "markdown",
   "id": "b8f9b04f-1364-4fdf-82c0-d86d30e9a2fe",
   "metadata": {},
   "source": [
    "#### 1.2.1 Splitting reference fasta and alignment"
   ]
  },
  {
   "cell_type": "code",
   "execution_count": null,
   "id": "b3c97be2-ac19-4c6b-98b0-70272106d897",
   "metadata": {},
   "outputs": [],
   "source": [
    "cd ../.. #star_protocols_saimaa\n",
    "work=$(pwd)\n",
    "apps=$work/bin\n",
    "\n",
    "refd=$work/data/reference\n",
    "refs=$refd/norppa_12122017\n",
    "\n",
    "seqbility=$apps/seqbility-20091110\n",
    "bwa=$apps/bwa\n",
    "\n",
    "maskdir=$refd/snpable\n",
    "\n",
    "rm -f $maskdir/*\n",
    "\n",
    "cd $maskdir\n",
    "\n",
    "$seqbility/splitfa $refs.fa 35 | split -l 20000000\n",
    "\n",
    "for i in $(ls x??); do \n",
    "  $bwa aln -R 1000000 -O 3 -E 3 $refs.fa $i > $i.sai\n",
    "done\n",
    "\n",
    "for i in $(ls x??); do \n",
    "  $bwa samse $refs.fa $i.sai $i > $i.sam\n",
    "done\n"
   ]
  },
  {
   "cell_type": "markdown",
   "id": "518615c2-a8a0-48b2-9655-7bb332f8f568",
   "metadata": {},
   "source": [
    "#### 1.2.3. Creating rawMask and final mask"
   ]
  },
  {
   "cell_type": "code",
   "execution_count": null,
   "id": "d1f2da72-014e-4ce7-bea8-90b5ee1bdb29",
   "metadata": {},
   "outputs": [],
   "source": [
    "cd ../.. #star_protocols_saimaa\n",
    "work=$(pwd)\n",
    "apps=$work/bin\n",
    "\n",
    "refd=$work/data/reference\n",
    "maskdir=$refd/snpable\n",
    "\n",
    "seqbility=$apps/seqbility-20091110\n",
    "\n",
    "cd $maskdir\n",
    "\n",
    "cat x??.sam | $seqbility/gen_raw_mask.pl > rawMask_35.fa\n",
    "\n",
    "$seqbility/gen_mask -l 35 -r 0.5 rawMask_35.fa > mask_35_50.fa\n"
   ]
  },
  {
   "cell_type": "markdown",
   "id": "78646c76-fd70-42c2-a787-200c3ba63478",
   "metadata": {},
   "source": [
    "#### 1.2.4. Converting mask file to bed format"
   ]
  },
  {
   "cell_type": "code",
   "execution_count": null,
   "id": "d30641bc-a22a-4b4d-996d-5ce619f1ebd8",
   "metadata": {},
   "outputs": [],
   "source": [
    "cd ../.. #star_protocols_saimaa\n",
    "work=$(pwd)\n",
    "apps=$work/bin\n",
    "maskdir=$refd/snpable\n",
    "\n",
    "python $work/scripts/2.masking-filtering/makeMappabilityMask.py\n",
    "\n",
    "# Combining the files returned by makeMappabilityMask.py\n",
    "\n",
    "for i in $(ls $maskdir/posmask); do zcat $maskdir/posmask/$i | bgzip -c >> $mask; done\n"
   ]
  },
  {
   "cell_type": "markdown",
   "id": "230a0cac-67b0-4a94-a29c-427bd0db14d7",
   "metadata": {},
   "source": [
    "## 2.Filtering VCFs"
   ]
  },
  {
   "cell_type": "code",
   "execution_count": null,
   "id": "317e951a-f974-4003-b14c-e83f921480a7",
   "metadata": {},
   "outputs": [],
   "source": [
    "#Filtering out repeat regions from the imputated and phased VCF:\n",
    "cd ../.. #star_protocols_saimaa\n",
    "work=$(pwd)\n",
    "apps=$work/bin\n",
    "\n",
    "maskdir=$refd/snpable\n",
    "refd=$work/data/reference\n",
    "\n",
    "bcftools=$apps/bcftools\n",
    "\n",
    "vcf_phased=$work/processed_data/1.mapping-variantcalling/beagle/saimaa_phased.vcf.gz\n",
    "vcf_posmask=$work/processed_data/2.masking-filtering/saimaa_posm.vcf.gz\n",
    "mask=$maskdir/norppa_12122017.posmask.bed.gz\n",
    "\n",
    "#Filtering the VCF file based on RepeatMasker data and the positive mask produced by SNPable\n",
    "\n",
    "$bcftools view -T ^$refd/RM/repeats.tab $vcf_phased | $bcftools view -T $mask -Oz -o $vcf_posmask\n"
   ]
  }
 ],
 "metadata": {
  "kernelspec": {
   "display_name": "Bash",
   "language": "bash",
   "name": "bash"
  },
  "language_info": {
   "codemirror_mode": "shell",
   "file_extension": ".sh",
   "mimetype": "text/x-sh",
   "name": "bash"
  }
 },
 "nbformat": 4,
 "nbformat_minor": 5
}
