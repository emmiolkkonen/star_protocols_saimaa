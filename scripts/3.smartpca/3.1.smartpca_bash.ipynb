{
 "cells": [
  {
   "cell_type": "markdown",
   "id": "2a5624b0-dd71-4fa1-8bd3-3007d7060d17",
   "metadata": {},
   "source": [
    "# Script for running smartpca"
   ]
  },
  {
   "cell_type": "markdown",
   "id": "793462f5-72a1-4ff0-b9b1-aebdb3864c2b",
   "metadata": {},
   "source": [
    "## Before you begin"
   ]
  },
  {
   "cell_type": "code",
   "execution_count": null,
   "id": "665bfafc-46b2-4f7f-a373-98c9e2d0bc1c",
   "metadata": {
    "tags": []
   },
   "outputs": [],
   "source": [
    "#Here it is assumed that all programs are installed in directory 'bin'.  \n",
    "#If they are elsewhere, the paths to individual programs have to adjusted.\n",
    "cd star_protocols_saimaa\n",
    "\n",
    "work=$(pwd)\n",
    "\n",
    "apps=$work/bin\n",
    "\n",
    "bcftools=$apps/bcftools\n",
    "vcftools=$apps/vcftools\n",
    "convertf=$apps/convertf\n",
    "smartpca=$apps/smartpca\n"
   ]
  },
  {
   "cell_type": "markdown",
   "id": "a7fadb8c-dd6d-483b-9e0c-221bab78d6eb",
   "metadata": {},
   "source": [
    "## PCA"
   ]
  },
  {
   "cell_type": "code",
   "execution_count": null,
   "id": "460222b0-cc59-4815-8476-32101d235c38",
   "metadata": {
    "tags": []
   },
   "outputs": [],
   "source": [
    "#Test with first 20 contigs\n",
    "\n",
    "data=processed_data/2.masking-filtering/saimaa_20_phased_posmask\n",
    "processed=processed_data/3.smartpca/saimaa_20_phased_posmask\n",
    "results=results/3.smartpca/saimaa_20_phased_posmask\n",
    "\n",
    "$bcftools view $data.vcf.gz | \\\n",
    " perl -pe '($c)=/([0-9]+)F\\|quiver\\|pilon/;++$c;$c=~s/^0+//;s/([0-9]+)F\\|quiver\\|pilon/$c/' | \\\n",
    " $vcftools --gzvcf - --plink --out $processed\n",
    "\n",
    "cat > processed_data/3.smartpca/CONVERT << EOF\n",
    "genotypename:    $processed.ped\n",
    "snpname:         $processed.map \n",
    "indivname:       $processed.ped \n",
    "outputformat:    EIGENSTRAT\n",
    "genotypeoutname: $processed.geno\n",
    "snpoutname:      $processed.snp\n",
    "indivoutname:    $processed.ind\n",
    "familynames:     NO\n",
    "EOF\n",
    "\n",
    "$convertf -p processed_data/3.smartpca/CONVERT\n",
    "\n",
    "\n",
    "cat > processed_data/3.smartpca/SMARTPCA << EOF\n",
    "genotypename:    $processed.geno\n",
    "snpname:         $processed.snp\n",
    "indivname:       $processed.ind \n",
    "evecoutname:     $results.evec\n",
    "evaloutname:     $results.eval\n",
    "numoutevec:      10\n",
    "numthreads:      4\n",
    "EOF\n",
    "\n",
    "$smartpca -p processed_data/3.smartpca/SMARTPCA > $results.out\n"
   ]
  },
  {
   "cell_type": "markdown",
   "id": "e04e19e2-bbf3-4e49-a129-5d186bcb3f96",
   "metadata": {},
   "source": [
    "**Note:** Eigensoft does not accept long contig names but requires the chromosomes to be numbers starting from one. The Perl command above deletes a fixed string from the contig name and, as the original numbers are from zero, adds one. There would be many other ways to achieve the same result.\n",
    "\n",
    "**Note:** Eigensoft has an upper limit of a 100 chromosomes. If you are working with a draft assembly with > 100 contigs, you need to change parameter ``MAXCH`` in ``EIG/include/mcio.h`` before compiling the software to fit the number of contigs/chromosomes in your dataset."
   ]
  }
 ],
 "metadata": {
  "kernelspec": {
   "display_name": "Bash",
   "language": "bash",
   "name": "bash"
  },
  "language_info": {
   "codemirror_mode": "shell",
   "file_extension": ".sh",
   "mimetype": "text/x-sh",
   "name": "bash"
  }
 },
 "nbformat": 4,
 "nbformat_minor": 5
}
