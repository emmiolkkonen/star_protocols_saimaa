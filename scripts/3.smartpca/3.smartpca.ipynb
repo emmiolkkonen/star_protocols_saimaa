{
 "cells": [
  {
   "cell_type": "markdown",
   "id": "874196f9-0669-4772-9e65-00def8159cb7",
   "metadata": {},
   "source": [
    "# Script for running PCA and plotting the results"
   ]
  },
  {
   "cell_type": "markdown",
   "id": "333e1b72-dc9e-4c88-a427-a9c1cffa8887",
   "metadata": {},
   "source": [
    "## Before you begin"
   ]
  },
  {
   "cell_type": "markdown",
   "id": "3c6223cc-07c5-41fa-9cb5-a14cbc390ee5",
   "metadata": {},
   "source": [
    "#### Copy the tools to 'bin/' and in each cell below, define paths to the tools."
   ]
  },
  {
   "cell_type": "markdown",
   "id": "3bdde9dc-cb30-4ea8-b9e7-d76ed6bb4c3a",
   "metadata": {},
   "source": [
    "## PCA"
   ]
  },
  {
   "cell_type": "code",
   "execution_count": null,
   "id": "a4213c6d-5cb5-4b2c-a31f-101da554794f",
   "metadata": {
    "tags": []
   },
   "outputs": [],
   "source": [
    "%%bash\n",
    "\n",
    "cd ../.. #star_protocols_saimaa\n",
    "work=$(pwd)\n",
    "apps=$work/bin\n",
    "\n",
    "bcftools=$apps/bcftools\n",
    "vcftools=$apps/vcftools\n",
    "convertf=$apps/convertf\n",
    "smartpca=$apps/smartpca\n",
    "\n",
    "#Test with first 20 contigs\n",
    "\n",
    "data=processed_data/2.masking-filtering/saimaa_20_phased_posmask\n",
    "processed=processed_data/3.smartpca/saimaa_20_phased_posmask\n",
    "results=results/3.smartpca/saimaa_20_phased_posmask\n",
    "\n",
    "$bcftools view $data.vcf.gz | \\\n",
    " perl -pe '($c)=/([0-9]+)F\\|quiver\\|pilon/;++$c;$c=~s/^0+//;s/([0-9]+)F\\|quiver\\|pilon/$c/' | \\\n",
    " $vcftools --gzvcf - --plink --out $processed\n",
    "\n",
    "cat > processed_data/3.smartpca/CONVERT << EOF\n",
    "genotypename:    $processed.ped\n",
    "snpname:         $processed.map \n",
    "indivname:       $processed.ped \n",
    "outputformat:    EIGENSTRAT\n",
    "genotypeoutname: $processed.geno\n",
    "snpoutname:      $processed.snp\n",
    "indivoutname:    $processed.ind\n",
    "familynames:     NO\n",
    "EOF\n",
    "\n",
    "$convertf -p processed_data/3.smartpca/CONVERT\n",
    "\n",
    "\n",
    "cat > processed_data/3.smartpca/SMARTPCA << EOF\n",
    "genotypename:    $processed.geno\n",
    "snpname:         $processed.snp\n",
    "indivname:       $processed.ind \n",
    "evecoutname:     $results.evec\n",
    "evaloutname:     $results.eval\n",
    "numoutevec:      10\n",
    "numthreads:      4\n",
    "EOF\n",
    "\n",
    "$smartpca -p processed_data/3.smartpca/SMARTPCA > $results.out\n"
   ]
  },
  {
   "cell_type": "markdown",
   "id": "82c1a8b3-7532-42c8-aa37-20a659001147",
   "metadata": {},
   "source": [
    "**Note:** Eigensoft does not accept long contig names but requires the chromosomes to be numbers starting from one. The Perl command above deletes a fixed string from the contig name and, as the original numbers are from zero, adds one. There would be many other ways to achieve the same result.\n",
    "\n",
    "**Note:** Eigensoft has an upper limit of a 100 chromosomes. If you are working with a draft assembly with > 100 contigs, you need to change parameter ``MAXCH`` in ``EIG/include/mcio.h`` before compiling the software to fit the number of contigs/chromosomes in your dataset.\n",
    "\n",
    "**Note:** In the project's GitHub repository, .ped, .geno and .snp files have been compressed (gzip). If you do not start from the beginning but run smartpca using the files provided in the repository, the files need to be decompressed first (gzip -d)."
   ]
  },
  {
   "cell_type": "markdown",
   "id": "1d2ce13e-1f69-41dc-9a6e-07864d773472",
   "metadata": {},
   "source": [
    "## Visualisation"
   ]
  },
  {
   "cell_type": "code",
   "execution_count": 2,
   "id": "2aa7c88d-555e-4afa-82f9-571d10482604",
   "metadata": {},
   "outputs": [],
   "source": [
    "import rpy2.robjects as robjects\n",
    "%load_ext rpy2.ipython"
   ]
  },
  {
   "cell_type": "code",
   "execution_count": null,
   "id": "f2427395-71b0-40e5-a4cd-e0c8bab099f6",
   "metadata": {},
   "outputs": [],
   "source": [
    "%%R\n",
    "\n",
    "install.packages(\"tidyverse\")"
   ]
  },
  {
   "cell_type": "code",
   "execution_count": 4,
   "id": "07caf379-2b33-4118-9f8d-a2a359d4628c",
   "metadata": {
    "tags": []
   },
   "outputs": [
    {
     "name": "stdout",
     "output_type": "stream",
     "text": [
      "Saving 6.67 x 6.67 in image\n"
     ]
    },
    {
     "data": {
      "image/png": "[encoded data removed]"
     },
     "metadata": {},
     "output_type": "display_data"
    }
   ],
   "source": [
    "%%R\n",
    "\n",
    "library(tidyverse)\n",
    "\n",
    "setwd(\"../..\")\n",
    "\n",
    "pca <- read.table(\"results/3.smartpca/saimaa_20_phased_posmask.evec\")\n",
    "eig <- read.table(\"results/3.smartpca/saimaa_20_phased_posmask.eval\")\n",
    "\n",
    "colnames(pca)[2:11] <- paste0(\"PC\",1:10)\n",
    "\n",
    "e1 <- round(100*eig$V1[1]/sum(eig$V1),2)\n",
    "e2 <- round(100*eig$V1[2]/sum(eig$V1),2)\n",
    "\n",
    "m3 <- min(pca$PC1)\n",
    "c3 <- max(pca$PC1)-m3\n",
    "m4 <- min(pca$PC2)\n",
    "c4 <- max(pca$PC2)-m4\n",
    "\n",
    "pca$Color <- rgb(\n",
    "  red=  1-(pca$PC1-m3)/c3, \n",
    "  green=1-(pca$PC2-m4)/c4, \n",
    "  blue=   (pca$PC2-m4)/c4)\n",
    "\n",
    "colors <- cbind(pca$V1, pca$Color)\n",
    "\n",
    "write.table(colors, \"results/3.smartpca/colors.txt\",row.names=F,quote=T, col.names=F, sep = \"\\t\")\n",
    "\n",
    "pca_plot <- ggplot(pca)+\n",
    "  geom_point(aes(PC2,PC1,fill=I(Color)),size=2,shape=21,stroke=.1)+\n",
    "  xlab(paste0(\"PC2 (\",e2,\"%)\"))+ylab(paste0(\"PC1 (\",e1,\"%)\"))+\n",
    "  scale_x_reverse()+\n",
    "  theme_classic()\n",
    "\n",
    "ggsave(\"results/3.smartpca/pca_20ctgs.png\", pca_plot)\n",
    "\n",
    "pca_plot"
   ]
  }
 ],
 "metadata": {
  "kernelspec": {
   "display_name": "Python 3 (ipykernel)",
   "language": "python",
   "name": "python3"
  },
  "language_info": {
   "codemirror_mode": {
    "name": "ipython",
    "version": 3
   },
   "file_extension": ".py",
   "mimetype": "text/x-python",
   "name": "python",
   "nbconvert_exporter": "python",
   "pygments_lexer": "ipython3",
   "version": "3.10.12"
  }
 },
 "nbformat": 4,
 "nbformat_minor": 5
}
