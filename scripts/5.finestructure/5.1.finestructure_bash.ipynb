{
 "cells": [
  {
   "cell_type": "markdown",
   "id": "cba5d0ec-e218-4801-9252-e67d1f994d99",
   "metadata": {},
   "source": [
    "# Script for running fineSTRUCTURE and PLINK IBS"
   ]
  },
  {
   "cell_type": "markdown",
   "id": "2d99ac33-8bab-4edf-a9f6-03133e705633",
   "metadata": {},
   "source": [
    "## Before you begin"
   ]
  },
  {
   "cell_type": "code",
   "execution_count": null,
   "id": "eadf3501-1c50-481b-9fcf-4749b1bad9d6",
   "metadata": {},
   "outputs": [],
   "source": [
    "cd star_protocols_saimaa\n",
    "work=$(pwd)\n",
    "\n",
    "apps=$work/bin\n",
    "\n",
    "plink=$apps/plink"
   ]
  },
  {
   "cell_type": "markdown",
   "id": "26c54728-b287-4573-a38f-b171846605d6",
   "metadata": {},
   "source": [
    "## fineSTRUCTURE"
   ]
  },
  {
   "cell_type": "code",
   "execution_count": null,
   "id": "53160746-842d-4e42-8c60-ea899b8afb28",
   "metadata": {},
   "outputs": [],
   "source": [
    "#Prepare .phase files for fineSTRUCTURE\n",
    "\n",
    "VCF=$work/processed_data/2.masking-filtering/saimaa_20_phased_posmask.vcf.gz\n",
    "DIR=$work/processed_data/4.finestructure/for_fs\n",
    "mkdir -p $DIR\n",
    "\n",
    "fs_dir=$apps/fs_4.1.1\n",
    "\n",
    "\n",
    "for ctg in $(head -20 $refs.fa.fai | cut -f1); do\n",
    "    num=${ctg:0:6}\n",
    "\n",
    "    $apps/plink --vcf $VCF --make-bed --chr $ctg --allow-extra-chr \\\n",
    "      --out $DIR/saimaa_$num --recode ped 12\n",
    "    perl $fs_dir/plink2chromopainter.pl -p=$DIR/saimaa_$num.ped \\\n",
    "      -m=$DIR/saimaa_$num.map -o=$DIR/saimaa_$num.phase\n",
    "    perl $fs_dir/makeuniformrecfile.pl $DIR/saimaa_$num.phase $DIR/saimaa_$num.rec\n",
    "\n",
    "    rm $DIR/saimaa_$num.[blmfp]?? $DIR/saimaa_$num.nosex\n",
    "done\n"
   ]
  },
  {
   "cell_type": "code",
   "execution_count": null,
   "id": "248b06f5-667a-4f1d-9f73-fd0655ba2fc5",
   "metadata": {
    "tags": []
   },
   "outputs": [],
   "source": [
    "#Prepare first command\n",
    "\n",
    "\n",
    "OUT=$work/processed_data/4.finestructure/\n",
    "\n",
    "cat $work/data/saimaa_IDs.txt | sed 's/^/s/' > $OUT/saimaa.ids\n",
    "\n",
    "cut -c-6 <(head -20 $refs.fa.fai) > $OUT/20ctgs.txt\n",
    "\n",
    "cd $OUT\n",
    "#ln -s ../$DIR data\n",
    "\n",
    "(echo -n \"fs saimaa_20ctgs.cp -idfile saimaa.ids -phasefiles \" && \\\n",
    "    cat 20ctgs.txt | while read a; do echo -n \" for_fs/saimaa_\"$a\".phase\"; done && \\\n",
    "    echo -n \" -recombfiles \" && \\\n",
    "    cat 20ctgs.txt | while read a; do echo -n \" for_fs/saimaa_\"$a\".rec\"; done && \\\n",
    "    echo \" -go\") > command_20ctgs.txt\n",
    "\n",
    "\n",
    "#Run the resulting command_20ctgs.txt \n",
    "\n",
    "source command_20ctgs.txt\n",
    "\n",
    "#Copy outputfiles to the \"results\" directory\n",
    "\n",
    "cp saimaa_20ctgs_linked.chunkcounts.out $work/results/4.finestructure/\n",
    "cp saimaa_20ctgs_linked_tree.xml $work/results/4.finestructure/"
   ]
  },
  {
   "cell_type": "markdown",
   "id": "f4ddc2dc-89dd-4f69-9b48-b277fc17d457",
   "metadata": {},
   "source": [
    "## Identity-by-state using PLINK"
   ]
  },
  {
   "cell_type": "code",
   "execution_count": null,
   "id": "d6694454-1e7c-483b-917e-426998e34663",
   "metadata": {},
   "outputs": [],
   "source": [
    "out=$work/processed_data/4.finestructure/IBS\n",
    "\n",
    "mkdir -p $out && cd $out\n",
    "\n",
    "$plink --vcf $VCF --allow-extra-chr --distance 'ibs' 'square'"
   ]
  }
 ],
 "metadata": {
  "kernelspec": {
   "display_name": "Bash",
   "language": "bash",
   "name": "bash"
  },
  "language_info": {
   "codemirror_mode": "shell",
   "file_extension": ".sh",
   "mimetype": "text/x-sh",
   "name": "bash"
  }
 },
 "nbformat": 4,
 "nbformat_minor": 5
}
