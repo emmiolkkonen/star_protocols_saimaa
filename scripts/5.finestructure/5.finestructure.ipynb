{
 "cells": [
  {
   "cell_type": "markdown",
   "id": "e387a371-392e-4ba3-b63d-59437a205739",
   "metadata": {},
   "source": [
    "# Analysis and visualization of coancestry"
   ]
  },
  {
   "cell_type": "markdown",
   "id": "bbf5c164-cca6-4a78-9a95-f3dff1686923",
   "metadata": {},
   "source": [
    "## Script for running fineSTRUCTURE and PLINK IBS"
   ]
  },
  {
   "cell_type": "markdown",
   "id": "a52ef461-762a-4209-8cd7-662e874e1e22",
   "metadata": {},
   "source": [
    "## Before you begin"
   ]
  },
  {
   "cell_type": "code",
   "execution_count": null,
   "id": "3ea6b94d-c996-4a62-a740-69952df03bad",
   "metadata": {},
   "outputs": [],
   "source": [
    "%%bash\n",
    "\n",
    "cd star_protocols_saimaa\n",
    "work=$(pwd)\n",
    "\n",
    "apps=$work/bin\n",
    "\n",
    "plink=$apps/plink"
   ]
  },
  {
   "cell_type": "markdown",
   "id": "d177b329-7e78-41e2-8e53-3f94d7b6b930",
   "metadata": {},
   "source": [
    "### fineSTRUCTURE"
   ]
  },
  {
   "cell_type": "code",
   "execution_count": null,
   "id": "604e39f5-5989-424f-9137-e8e5bf2d1ca7",
   "metadata": {},
   "outputs": [],
   "source": [
    "%%bash\n",
    "\n",
    "#Prepare .phase files for fineSTRUCTURE\n",
    "#Here we include the first 20 contigs only\n",
    "\n",
    "VCF=$work/processed_data/2.masking-filtering/saimaa_20_phased_posmask.vcf.gz\n",
    "DIR=$work/processed_data/4.finestructure/for_fs\n",
    "mkdir -p $DIR\n",
    "\n",
    "fs_dir=$apps/fs_4.1.1\n",
    "\n",
    "for ctg in $(head -20 $refs.fa.fai | cut -f1); do\n",
    "    num=${ctg:0:6}\n",
    "\n",
    "    $apps/plink --vcf $VCF --make-bed --chr $ctg --allow-extra-chr \\\n",
    "      --out $DIR/saimaa_$num --recode ped 12\n",
    "    perl $fs_dir/plink2chromopainter.pl -p=$DIR/saimaa_$num.ped \\\n",
    "      -m=$DIR/saimaa_$num.map -o=$DIR/saimaa_$num.phase\n",
    "    perl $fs_dir/makeuniformrecfile.pl $DIR/saimaa_$num.phase $DIR/saimaa_$num.rec\n",
    "\n",
    "    rm $DIR/saimaa_$num.[blmfp]?? $DIR/saimaa_$num.nosex\n",
    "done\n"
   ]
  },
  {
   "cell_type": "code",
   "execution_count": null,
   "id": "2e50aff4-b099-4103-9599-a151879dd9e5",
   "metadata": {
    "tags": []
   },
   "outputs": [],
   "source": [
    "%%bash\n",
    "\n",
    "#Prepare first command\n",
    "\n",
    "\n",
    "OUT=$work/processed_data/4.finestructure/\n",
    "\n",
    "cat $work/data/saimaa_IDs.txt | sed 's/^/s/' > $OUT/saimaa.ids\n",
    "\n",
    "cut -c-6 <(head -20 $refs.fa.fai) > $OUT/20ctgs.txt\n",
    "\n",
    "cd $OUT\n",
    "#ln -s ../$DIR data\n",
    "\n",
    "(echo -n \"fs saimaa_20ctgs.cp -idfile saimaa.ids -phasefiles \" && \\\n",
    "    cat 20ctgs.txt | while read a; do echo -n \" for_fs/saimaa_\"$a\".phase\"; done && \\\n",
    "    echo -n \" -recombfiles \" && \\\n",
    "    cat 20ctgs.txt | while read a; do echo -n \" for_fs/saimaa_\"$a\".rec\"; done && \\\n",
    "    echo \" -go\") > command_20ctgs.txt\n",
    "\n",
    "\n",
    "#Run the resulting command_20ctgs.txt \n",
    "\n",
    "source command_20ctgs.txt\n",
    "\n",
    "#Copy outputfiles to the \"results\" directory\n",
    "\n",
    "cp saimaa_20ctgs_linked.chunkcounts.out $work/results/4.finestructure/\n",
    "cp saimaa_20ctgs_linked_tree.xml $work/results/4.finestructure/"
   ]
  },
  {
   "cell_type": "markdown",
   "id": "2c5a58c0-ee6b-442b-9615-44fb3bfd9040",
   "metadata": {},
   "source": [
    "### Identity-by-state using PLINK"
   ]
  },
  {
   "cell_type": "code",
   "execution_count": null,
   "id": "367ce9b8-fd7d-4529-8442-9110f1a84c36",
   "metadata": {},
   "outputs": [],
   "source": [
    "%%bash\n",
    "\n",
    "out=$work/processed_data/4.finestructure/IBS\n",
    "\n",
    "mkdir $out && cd $out\n",
    "\n",
    "$plink --vcf $VCF --allow-extra-chr --distance 'ibs' 'square'"
   ]
  },
  {
   "cell_type": "markdown",
   "id": "a1dc0404-7e6d-477b-8213-0f7034a6ed02",
   "metadata": {},
   "source": [
    "## Script for visualization of fineSTRUCTURE results in R"
   ]
  },
  {
   "cell_type": "markdown",
   "id": "0c1ab806-1dce-451b-bb25-63567eb739b8",
   "metadata": {},
   "source": [
    "### Preparation of data matrices and visualisation using a function from fineSTRUCTURE"
   ]
  },
  {
   "cell_type": "code",
   "execution_count": null,
   "id": "34f32cec-6577-4f05-9f3d-0e9b7614f358",
   "metadata": {},
   "outputs": [],
   "source": [
    "import rpy2.robjects as robjects\n",
    "%load_ext rpy2.ipython"
   ]
  },
  {
   "cell_type": "code",
   "execution_count": null,
   "id": "4de86729-6026-4ef7-b5ca-929aa526bf80",
   "metadata": {},
   "outputs": [],
   "source": [
    "%%R\n",
    "#install.packages(\"tidyverse\")\n",
    "install.packages(\"ape\")\n",
    "install.packages(\"XML\")\n",
    "install.packages(\"reshape2\")\n",
    "install.packages(\"cowplot\")"
   ]
  },
  {
   "cell_type": "code",
   "execution_count": null,
   "id": "af06da87-a86e-444a-883f-b4891eb8677c",
   "metadata": {
    "tags": []
   },
   "outputs": [],
   "source": [
    "%%R\n",
    "\n",
    "library(ape)\n",
    "library(XML)\n",
    "library(tidyverse)\n",
    "\n",
    "setwd(\"../..\")\n",
    "\n",
    "source(\"bin/fs_4.1.1/FinestructureLibrary.R\")\n",
    "\n",
    "# Tree and order of samples\n",
    "\n",
    "treexml <- xmlTreeParse(\"results/4.finestructure/saimaa_20ctgs_linked_tree.xml\")  ## read the tree as xml format\n",
    "ttree <- extractTree(treexml) ## extract the tree into ape's phylo format\n",
    "ttree$node.label <- c(1:97)\n",
    "\n",
    "#At this point, you may want to rotate some parts of the tree to make a nicer plot by using function rotate(ttree, number of parent node)\n",
    "\n",
    "tdend <- myapetodend(ttree,factor=1) # convert to dendrogram format\n",
    "\n",
    "fullorder <- labels(tdend) # the order according to the tree\n",
    "fullorder <- gsub(\"s\",\"\",fullorder)\n",
    "\n",
    "###############################\n",
    "\n",
    "#Coancestry data and plotting using function from fineSTRUCTURE\n",
    "\n",
    "data_df <- read.table(\"results/4.finestructure/saimaa_20ctgs_linked.chunkcounts.out\", row.names=1,header=T,skip=1)\n",
    "\n",
    "dataraw <- as.matrix(data_df) # read in the pairwise coincidence \n",
    "colnames(dataraw) <- gsub(\"s\",\"\",colnames(dataraw))\n",
    "rownames(dataraw) <- gsub(\"s\",\"\",rownames(dataraw))\n",
    "\n",
    "datamatrix <- dataraw[fullorder,fullorder] # reorder the data matrix\n",
    "\n",
    "write.table(datamatrix, \"results/4.finestructure/datamatrix.txt\", row.names=T,quote=F, col.names=T)\n",
    "write.table(fullorder, \"results/4.finestructure/fullorder.txt\", row.names=F,quote=F, col.names=F)\n",
    "\n",
    "fsmax <- 395 # cap the heatmap\n",
    "fsmat <- datamatrix \n",
    "fsmat[fsmat>fsmax] <- fsmax\n",
    "\n",
    "pca_cols <- read.table(\"results/3.smartpca/colors.txt\", sep = \"\\t\", header=F)\n",
    "\n",
    "k <- match(fullorder,pca_cols$V1)\n",
    "lcol <- pca_cols$V1[k]\n",
    "\n",
    "colfunc<-colorRampPalette(c(\"papayawhip\",\"#edc861\",\"goldenrod\", \"orangered4\", \"purple4\", \"royalblue\"))\n",
    "some.colorsEnd<-(colfunc(40))\n",
    "some.colorsEnd[40]=\"gray20\"\n",
    "\n",
    "png(\"results/4.finestructure/coancestry.png\", height = 900, width = 900)\n",
    "plotFinestructure(fsmat,fullorder,cols=some.colorsEnd,cex.axis=0.6,\n",
    "                  edgePar=list(p.lwd=0,t.srt=90,t.off=-0.1,t.cex=0.8),text.col=lcol)\n",
    "dev.off()\n",
    "\n",
    "#############################\n",
    "#IBS data and plotting using function from fineSTRUCTURE\n",
    "\n",
    "ibs <- read.table(\"processed_data/4.finestructure/IBS/plink.mibs\", sep = \"\\t\")\n",
    "inds <- read.table(\"data/saimaa_IDs.txt\")\n",
    "\n",
    "ibsmatrix <- as.matrix(ibs)\n",
    "colnames(ibsmatrix) <- inds$V1\n",
    "rownames(ibsmatrix) <- inds$V1\n",
    "\n",
    "ibsmatrix <- ibsmatrix[fullorder,fullorder] # Order of matrix changed to match that of the finestructure matrix\n",
    "diag(ibsmatrix) <- NA\n",
    "\n",
    "ibsmax <- 0.87 # cap the heatmap\n",
    "ibsmat <- ibsmatrix\n",
    "ibsmat[ibsmat>ibsmax] <- ibsmax # \n",
    "\n",
    "png(file=\"processed_data/4.finestructure/IBS/identitybystate.png\",height=900,width=900)\n",
    "plotFinestructure(ibsmat,fullorder,cols=some.colorsEnd,cex.axis=0.6,\n",
    "                  edgePar=list(p.lwd=0,t.srt=90,t.off=-0.1,t.cex=0.8),text.col=lcol)\n",
    "dev.off()\n"
   ]
  },
  {
   "cell_type": "markdown",
   "id": "80e640b7-3513-4514-9281-29950605232d",
   "metadata": {},
   "source": [
    "### Plotting the metrics using ggplot2 (included in the publication)"
   ]
  },
  {
   "cell_type": "code",
   "execution_count": null,
   "id": "bb04faa4-ff3f-4b1d-907e-add384ca5847",
   "metadata": {},
   "outputs": [],
   "source": [
    "%%R\n",
    "\n",
    "library(reshape2)\n",
    "library(cowplot)\n",
    "\n",
    "fs_melt <- melt(fsmat)\n",
    "fs_melt$Var1 <- factor(as.character(fs_melt$Var1), levels = unique(as.character(fs_melt$Var1)))\n",
    "fs_melt$Var2 <- factor(as.character(fs_melt$Var2), levels = unique(as.character(fs_melt$Var2)))\n",
    "\n",
    "ibs_melt <- melt(ibsmat)\n",
    "ibs_melt$Var1 <- factor(as.character(ibs_melt$Var1), levels = unique(as.character(ibs_melt$Var1)))\n",
    "ibs_melt$Var2 <- factor(as.character(ibs_melt$Var2), levels = unique(as.character(ibs_melt$Var2)))\n",
    "\n",
    "fs_col = c(\"papayawhip\",\"navajowhite1\", \"#edc861\", \"darkred\", \"purple4\")\n",
    "\n",
    "fstheme <- theme(axis.text.x = element_text(angle=90),\n",
    "                 axis.text = element_text(colour = lcol),\n",
    "                 axis.title = element_text(size = 14),\n",
    "                 legend.position = \"top\", \n",
    "                 legend.title = element_text(size = 13),\n",
    "                 legend.text = element_text(size = 14),\n",
    "                 legend.margin=margin(0,50,0,0), \n",
    "                 legend.spacing.x = unit(0.5, 'cm'))\n",
    "\n",
    "fs_plot <- ggplot(data = fs_melt, aes(x=Var2, y=Var1, fill=value)) + \n",
    "  geom_tile()+\n",
    "  xlab(\"Seal2\")+ylab(\"Seal1\")+\n",
    "  fstheme+\n",
    "  guides(fill = guide_colourbar(barwidth = 18, barheight = 0.8))+\n",
    "  scale_fill_gradientn(name = \"Coancestry\", breaks = c(0,100,200,300,400,500,600), colours = fs_col)\n",
    "\n",
    "ibs_plot <- ggplot(data = ibs_melt, aes(x=Var2, y=Var1, fill=value)) + \n",
    "  geom_tile()+\n",
    "  xlab(\"Seal2\")+\n",
    "  fstheme+\n",
    "  guides(fill = guide_colourbar(barwidth = 18, barheight = 0.8))+\n",
    "  scale_fill_gradientn(name = \"IBS\", breaks = c(0.7,0.75,0.8,0.85,0.9,0.95,1), colours = fs_col)\n",
    "\n",
    "fs_grid <- plot_grid(fs_plot, ibs_plot+theme(plot.margin = unit(c(0.4,0.4,0.4,1.2), ncol = 2, nrow = 1, labels = c(\"A\", \"B\"))\n",
    "\n",
    "ggsave(\"results/4.finestructure/coancestry_grid.png\", fs_grid)\n",
    "\n"
   ]
  }
 ],
 "metadata": {
  "kernelspec": {
   "display_name": "Python 3 (ipykernel)",
   "language": "python",
   "name": "python3"
  },
  "language_info": {
   "codemirror_mode": {
    "name": "ipython",
    "version": 3
   },
   "file_extension": ".py",
   "mimetype": "text/x-python",
   "name": "python",
   "nbconvert_exporter": "python",
   "pygments_lexer": "ipython3",
   "version": "3.10.6"
  }
 },
 "nbformat": 4,
 "nbformat_minor": 5
}
