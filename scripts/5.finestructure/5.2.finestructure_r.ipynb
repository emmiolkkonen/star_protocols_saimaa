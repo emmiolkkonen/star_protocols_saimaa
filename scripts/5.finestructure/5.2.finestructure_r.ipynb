{
 "cells": [
  {
   "cell_type": "markdown",
   "id": "89112418-5c08-496f-babb-c52b20bf5398",
   "metadata": {},
   "source": [
    "# Script for visualization of fineSTRUCTURE results in R"
   ]
  },
  {
   "cell_type": "markdown",
   "id": "f799ccda-b059-4696-8a56-5bc12b06b8a4",
   "metadata": {},
   "source": [
    "## Before you begin "
   ]
  },
  {
   "cell_type": "code",
   "execution_count": null,
   "id": "676503b1-433b-4b0f-83a7-5e9e3a63b0a9",
   "metadata": {},
   "outputs": [],
   "source": [
    "#install.packages(\"tidyverse\")\n",
    "install.packages(\"ape\")\n",
    "install.packages(\"XML\")\n",
    "install.packages(\"reshape2\")\n",
    "install.packages(\"cowplot\")"
   ]
  },
  {
   "cell_type": "markdown",
   "id": "86619884-257e-4f1a-8a9c-e53070be1b06",
   "metadata": {},
   "source": [
    "## Visualisation of distances using a function from fineSTRUCTURE: coancestry and IBS"
   ]
  },
  {
   "cell_type": "code",
   "execution_count": null,
   "id": "0f5e580b-0ce3-4be4-a4d9-3984e32bb3c3",
   "metadata": {
    "tags": []
   },
   "outputs": [],
   "source": [
    "library(ape)\n",
    "library(XML)\n",
    "library(tidyverse)\n",
    "\n",
    "setwd(\"../..\")\n",
    "\n",
    "source(\"bin/fs_4.1.1/FinestructureLibrary.R\")\n",
    "\n",
    "# Tree and order of samples\n",
    "\n",
    "treexml <- xmlTreeParse(\"results/4.finestructure/saimaa_20ctgs_linked_tree.xml\")  ## read the tree as xml format\n",
    "ttree <- extractTree(treexml) ## extract the tree into ape's phylo format\n",
    "ttree$node.label <- c(1:97)\n",
    "\n",
    "#At this point, you may want to rotate some parts of the tree to make a nicer plot by using function rotate(ttree, number of parent node)\n",
    "\n",
    "tdend <- myapetodend(ttree,factor=1) # convert to dendrogram format\n",
    "\n",
    "fullorder <- labels(tdend) # the order according to the tree\n",
    "fullorder <- gsub(\"s\",\"\",fullorder)\n",
    "\n",
    "###############################\n",
    "\n",
    "#Coancestry data and plotting using function from fineSTRUCTURE\n",
    "\n",
    "data_df <- read.table(\"results/4.finestructure/saimaa_20ctgs_linked.chunkcounts.out\", row.names=1,header=T,skip=1)\n",
    "\n",
    "dataraw <- as.matrix(data_df) # read in the pairwise coincidence \n",
    "colnames(dataraw) <- gsub(\"s\",\"\",colnames(dataraw))\n",
    "rownames(dataraw) <- gsub(\"s\",\"\",rownames(dataraw))\n",
    "\n",
    "datamatrix <- dataraw[fullorder,fullorder] # reorder the data matrix\n",
    "\n",
    "write.table(datamatrix, \"results/4.finestructure/datamatrix.txt\", row.names=T,quote=F, col.names=T)\n",
    "write.table(fullorder, \"results/4.finestructure/fullorder.txt\", row.names=F,quote=F, col.names=F)\n",
    "\n",
    "fsmax <- 395 # cap the heatmap, threshold set on the highest 1.5% of values\n",
    "fsmat <- datamatrix \n",
    "fsmat[fsmat>fsmax] <- fsmax\n",
    "\n",
    "pca_cols <- read.table(\"results/3.smartpca/colors.txt\", sep = \"\\t\", header=F)\n",
    "\n",
    "k <- match(fullorder,pca_cols$V1)\n",
    "lcol <- pca_cols$V1[k]\n",
    "\n",
    "colfunc<-colorRampPalette(c(\"papayawhip\",\"#edc861\",\"goldenrod\", \"orangered4\", \"purple4\", \"royalblue\"))\n",
    "some.colorsEnd<-(colfunc(40))\n",
    "some.colorsEnd[40]=\"gray20\"\n",
    "\n",
    "png(\"results/4.finestructure/coancestry.png\", height = 900, width = 900)\n",
    "plotFinestructure(fsmat,fullorder,cols=some.colorsEnd,cex.axis=0.6,\n",
    "                  edgePar=list(p.lwd=0,t.srt=90,t.off=-0.1,t.cex=0.8),text.col=lcol)\n",
    "dev.off()\n",
    "\n",
    "#############################\n",
    "#IBS data and plotting using function from fineSTRUCTURE\n",
    "\n",
    "ibs <- read.table(\"processed_data/4.finestructure/IBS/plink.mibs\", sep = \"\\t\")\n",
    "inds <- read.table(\"data/saimaa_IDs.txt\")\n",
    "\n",
    "ibsmatrix <- as.matrix(ibs)\n",
    "colnames(ibsmatrix) <- inds$V1\n",
    "rownames(ibsmatrix) <- inds$V1\n",
    "\n",
    "ibsmatrix <- ibsmatrix[fullorder,fullorder] # Order of matrix changed to match that of the finestructure matrix\n",
    "diag(ibsmatrix) <- NA\n",
    "\n",
    "ibsmax <- 0.87 # cap the heatmap, threshold set on the highest 1.5% of values\n",
    "ibsmat <- ibsmatrix\n",
    "ibsmat[ibsmat>ibsmax] <- ibsmax # \n",
    "\n",
    "png(file=\"processed_data/4.finestructure/IBS/identitybystate.png\",height=900,width=900)\n",
    "plotFinestructure(ibsmat,fullorder,cols=some.colorsEnd,cex.axis=0.6,\n",
    "                  edgePar=list(p.lwd=0,t.srt=90,t.off=-0.1,t.cex=0.8),text.col=lcol)\n",
    "dev.off()\n"
   ]
  },
  {
   "cell_type": "markdown",
   "id": "75c78341-fc28-4ca5-8728-a2a1caa8cbaa",
   "metadata": {},
   "source": [
    "## Plot the metrics using ggplot2 (included in the publication)"
   ]
  },
  {
   "cell_type": "code",
   "execution_count": null,
   "id": "43713092-4049-4a71-8105-04710d24d10d",
   "metadata": {},
   "outputs": [],
   "source": [
    "library(reshape2)\n",
    "library(cowplot)\n",
    "\n",
    "fs_melt <- melt(fsmat)\n",
    "fs_melt$Var1 <- factor(as.character(fs_melt$Var1), levels = unique(as.character(fs_melt$Var1)))\n",
    "fs_melt$Var2 <- factor(as.character(fs_melt$Var2), levels = unique(as.character(fs_melt$Var2)))\n",
    "\n",
    "ibs_melt <- melt(ibsmat)\n",
    "ibs_melt$Var1 <- factor(as.character(ibs_melt$Var1), levels = unique(as.character(ibs_melt$Var1)))\n",
    "ibs_melt$Var2 <- factor(as.character(ibs_melt$Var2), levels = unique(as.character(ibs_melt$Var2)))\n",
    "\n",
    "fs_col = c(\"papayawhip\",\"navajowhite1\", \"#edc861\", \"darkred\", \"purple4\")\n",
    "\n",
    "fstheme <- theme(axis.text.x = element_text(angle=90),\n",
    "                 axis.text = element_text(colour = lcol),\n",
    "                 axis.title = element_text(size = 14),\n",
    "                 legend.position = \"top\", \n",
    "                 legend.title = element_text(size = 13),\n",
    "                 legend.text = element_text(size = 14),\n",
    "                 legend.margin=margin(0,50,0,0), \n",
    "                 legend.spacing.x = unit(0.5, 'cm'))\n",
    "\n",
    "fs_plot <- ggplot(data = fs_melt, aes(x=Var2, y=Var1, fill=value)) + \n",
    "  geom_tile()+\n",
    "  xlab(\"Seal2\")+ylab(\"Seal1\")+\n",
    "  fstheme+\n",
    "  guides(fill = guide_colourbar(barwidth = 18, barheight = 0.8))+\n",
    "  scale_fill_gradientn(name = \"Coancestry\", breaks = c(0,100,200,300,400,500,600), colours = fs_col)\n",
    "\n",
    "ibs_plot <- ggplot(data = ibs_melt, aes(x=Var2, y=Var1, fill=value)) + \n",
    "  geom_tile()+\n",
    "  xlab(\"Seal2\")+\n",
    "  fstheme+\n",
    "  guides(fill = guide_colourbar(barwidth = 18, barheight = 0.8))+\n",
    "  scale_fill_gradientn(name = \"IBS\", breaks = c(0.7,0.75,0.8,0.85,0.9,0.95,1), colours = fs_col)\n",
    "\n",
    "fs_grid <- plot_grid(fs_plot, ibs_plot+theme(plot.margin = unit(c(0.4,0.4,0.4,1.2), ncol = 2, nrow = 1, labels = c(\"A\", \"B\"))\n",
    "\n",
    "ggsave(\"results/4.finestructure/coancestry_grid.png\", fs_grid)"
   ]
  }
 ],
 "metadata": {
  "kernelspec": {
   "display_name": "R",
   "language": "R",
   "name": "r"
  },
  "language_info": {
   "codemirror_mode": "r",
   "file_extension": ".r",
   "mimetype": "text/x-r-source",
   "name": "R",
   "pygments_lexer": "r",
   "version": "4.3.1"
  }
 },
 "nbformat": 4,
 "nbformat_minor": 5
}
