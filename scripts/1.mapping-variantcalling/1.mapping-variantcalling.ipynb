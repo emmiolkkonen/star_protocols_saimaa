{
 "cells": [
  {
   "cell_type": "markdown",
   "id": "c44f094c-3515-452d-897a-b923ea8ad9f5",
   "metadata": {},
   "source": [
    "# Scripts for mapping fastq data, variant calling, imputation of missing data and haplotype phasing"
   ]
  },
  {
   "cell_type": "markdown",
   "id": "768e599f-4f84-4b77-a72a-b04c38be24c7",
   "metadata": {},
   "source": [
    "## Before you begin"
   ]
  },
  {
   "cell_type": "markdown",
   "id": "c7c771da-66cc-4764-a093-2e1d98d56992",
   "metadata": {},
   "source": [
    "#### Copy the tools to 'bin/' and in each cell below, define paths to the tools. Adjust '$ncpu', the number of computing threads used, within the script if necessary."
   ]
  },
  {
   "cell_type": "markdown",
   "id": "dba4b1cb-654c-4b4b-b44e-8bd1150de0e3",
   "metadata": {},
   "source": [
    "### Prepare the reference genome for mapping"
   ]
  },
  {
   "cell_type": "code",
   "execution_count": null,
   "id": "30f2a57d-676a-4f5a-ba4d-ba42603bbf2b",
   "metadata": {},
   "outputs": [],
   "source": [
    "cd ../.. #star_protocols_saimaa\n",
    "work=$(pwd)\n",
    "apps=$work/bin\n",
    "\n",
    "bwa=$apps/bwa\n",
    "samtools=$apps/samtools\n",
    "\n",
    "refd=$work/data/reference\n",
    "\n",
    "refs=$refd/norppa_12122017\n",
    "\n",
    "gunzip $refs.fa.gz\n",
    "\n",
    "$samtools faidx $refs.fa\n",
    "$samtools dict $refs.fa > $refs.dict\n",
    "\n",
    "$bwa index $refs.fa\n"
   ]
  },
  {
   "cell_type": "markdown",
   "id": "25f354a3-cadf-4c4b-b343-1e6b2ae850bb",
   "metadata": {},
   "source": [
    "## 1.Mapping using BWA"
   ]
  },
  {
   "cell_type": "markdown",
   "id": "6e24a1fe-9f41-4443-aa58-2f060aa83f1b",
   "metadata": {},
   "source": [
    "### The following script is in 'scripts/ map_fastq.sh'."
   ]
  },
  {
   "cell_type": "code",
   "execution_count": null,
   "id": "05c2d66c-4053-458c-958c-9ed0e7b842a8",
   "metadata": {},
   "outputs": [],
   "source": [
    "cd ../.. #star_protocols_saimaa\n",
    "work=$(pwd)\n",
    "apps=$work/bin\n",
    "\n",
    "bwa=$apps/bwa\n",
    "samtools=$apps/samtools\n",
    "gatk3=$apps/gatk3\n",
    "\n",
    "ncpu=4\n",
    "\n",
    "sample=$1\n",
    "fastq1=$2\n",
    "fastq2=$3\n",
    "\n",
    "temp=$work/processed_data/1.mapping-variantcalling/temp\n",
    "bams=$work/processed_data/1.mapping-variantcalling/bams\n",
    "\n",
    "mkdir -p $temp\n",
    "mkdir -p $bams \n",
    "\n",
    "log=$work/bams/$sample-`date +%F-%T`.log\n",
    "\n",
    "RG=\"@RG\\tID:${sample}\\tSM:${sample}\\tPL:ILLUMINA\\tLB:LIB\"\n",
    "\n",
    "( $bwa mem -M -R $RG -t $ncpu $refs.fa $fastq1 $fastq2 \\\n",
    "  | $samtools view -h -b -o $temp/${sample}_align.bam - ) 2>> $log\n",
    "\n",
    "$samtools fixmate -@ $ncpu -m $temp/${sample}_align.bam $temp/${sample}_fixm.bam &>> $log\n",
    "\n",
    "$samtools sort -@ $ncpu $temp/${sample}_fixm.bam -o $temp/${sample}_sort.bam &>> $log\n",
    "\n",
    "$samtools index $temp/${sample}_sort.bam &>> $log\n",
    "\n",
    "$gatk3 -T RealignerTargetCreator \\\n",
    "  -R $refs.fa -I $temp/${sample}_sort.bam -o $temp/${sample}.intervals  \\\n",
    "  -nt $ncpu &>> $log\n",
    "  \n",
    "$gatk3 -T IndelRealigner \\\n",
    "  -R $refs.fa -I $temp/${sample}_sort.bam -o $temp/${sample}_realign.bam \\\n",
    "  -targetIntervals $temp/${sample}.intervals &>> $log\n",
    "\n",
    "$samtools markdup -@ $ncpu $temp/${sample}_realign.bam $bams/${sample}_markdup.bam\n",
    "$samtools index $bams/${sample}_markdup.bam\n",
    "\n",
    "rm $temp/${sample}*\n"
   ]
  },
  {
   "cell_type": "markdown",
   "id": "dc2211f4-4ee3-4d9c-9170-b310f13a8545",
   "metadata": {},
   "source": [
    "## 2.Genotype calling"
   ]
  },
  {
   "cell_type": "markdown",
   "id": "97350a02-d82b-41ed-9df1-614d99a77cf7",
   "metadata": {},
   "source": [
    "### 2.1. ANGSD"
   ]
  },
  {
   "cell_type": "code",
   "execution_count": null,
   "id": "121dd2e9-5cc6-4dc5-96e4-344c1fe53c1d",
   "metadata": {},
   "outputs": [],
   "source": [
    "cd ../.. #star_protocols_saimaa\n",
    "work=$(pwd)\n",
    "apps=$work/bin\n",
    "\n",
    "angsd=$apps/angsd\n",
    "\n",
    "ncpu=4\n",
    "\n",
    "output=$work/processed_data/1.mapping-variantcalling/angsd/saimaa\n",
    "\n",
    "bams=$work/processed_data/1.mapping-variantcalling/bams\n",
    "bamsfile=$work/processed_data/1.mapping-variantcalling/angsd/bams.txt\n",
    "ls $bams/*bam | sort -V > $bamsfile\n",
    "\n",
    "#Running ANGSD\n",
    "\n",
    "$angsd -GL 2 -doGlf 2 -doDepth 1 -doCounts 1 -doMajorMinor 1 -doMaf 2 \\\n",
    "  -minMaf 0.05 -SNP_pval 1e-6 -uniqueOnly 1 -minMapQ 30 -minQ 20 -skipTriallelic 1 \\\n",
    "  -nThreads $ncpu -minInd 20 \\\n",
    "  -bam $bamsfile -out $output &> $output.log\n"
   ]
  },
  {
   "cell_type": "markdown",
   "id": "8f7b4f0c-003a-4b5c-9c3f-2bc2a6812fd1",
   "metadata": {},
   "source": [
    "### 2.2. PCAngsd"
   ]
  },
  {
   "cell_type": "code",
   "execution_count": null,
   "id": "ce02fe72-f892-4c47-a07f-aa190bc28212",
   "metadata": {},
   "outputs": [],
   "source": [
    "cd ../.. #star_protocols_saimaa\n",
    "work=$(pwd)\n",
    "apps=$work/bin\n",
    "\n",
    "pangsd=\"python3 $apps/pcangsd-v.0.99/pcangsd.py\"\n",
    "\n",
    "file=$work/processed_data/1.mapping-variantcalling/angsd/saimaa\n",
    "\n",
    "$pcangsd -beagle $file.beagle.gz -e 4 -o $file -post_save\n",
    "\n",
    "awk -f $work/scripts/1.mapping-variantcalling/beagle2vcf.awk $file.post.beagle | bgzip -c > $file.tmp.vcf.gz\n",
    "\n",
    "$bcftools reheader -s $work/data/saimaa_IDs.txt $file.tmp.vcf.gz -o $file.vcf.gz\n"
   ]
  },
  {
   "cell_type": "markdown",
   "id": "4e662d8e-2cc0-4a06-90ba-12615c2c7de6",
   "metadata": {},
   "source": [
    "### 2.3. Beagle: imputation"
   ]
  },
  {
   "cell_type": "code",
   "execution_count": null,
   "id": "00a439e9-43d1-4919-acc4-a813b5fc937e",
   "metadata": {},
   "outputs": [],
   "source": [
    "cd ../.. #star_protocols_saimaa\n",
    "work=$(pwd)\n",
    "apps=$work/bin\n",
    "\n",
    "beagle=\"java -Xmx40G -jar $apps/beagle.08Jun17.d8b.jar\"\n",
    "\n",
    "input=$work/processed_data/1.mapping-variantcalling/angsd/saimaa.vcf.gz\n",
    "\n",
    "imputed=$work/processed_data/1.mapping-variantcalling/beagle/saimaa_imputed\n",
    "phased=$work/processed_data/1.mapping-variantcalling/beagle/saimaa_phased\n",
    "\n",
    "$beagle nthreads=10 gl=$input out=$imputed &> $imputed.err\n",
    "\n",
    "$beagle nthreads=10 gt=$imputed.vcf.gz out=$phased &> $phased.err\n"
   ]
  }
 ],
 "metadata": {
  "kernelspec": {
   "display_name": "Bash",
   "language": "bash",
   "name": "bash"
  },
  "language_info": {
   "codemirror_mode": "shell",
   "file_extension": ".sh",
   "mimetype": "text/x-sh",
   "name": "bash"
  }
 },
 "nbformat": 4,
 "nbformat_minor": 5
}
